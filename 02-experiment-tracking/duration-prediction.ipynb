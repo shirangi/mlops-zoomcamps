{
 "cells": [
  {
   "cell_type": "code",
   "execution_count": 54,
   "id": "b2bd82d7",
   "metadata": {},
   "outputs": [
    {
     "name": "stdout",
     "output_type": "stream",
     "text": [
      "Python 3.13.9\n"
     ]
    }
   ],
   "source": [
    "!python -V"
   ]
  },
  {
   "cell_type": "code",
   "execution_count": 55,
   "id": "9c5462ed-235d-4bfc-817a-2545e0b02ea0",
   "metadata": {},
   "outputs": [
    {
     "name": "stdout",
     "output_type": "stream",
     "text": [
      "/home/ubuntu/anaconda3/envs/.venv/bin/python\n"
     ]
    }
   ],
   "source": [
    "!which python"
   ]
  },
  {
   "cell_type": "code",
   "execution_count": 85,
   "id": "fdbc7243-4b12-49aa-a30b-cb6869446e26",
   "metadata": {},
   "outputs": [
    {
     "name": "stderr",
     "output_type": "stream",
     "text": [
      "2025/10/29 06:56:18 INFO mlflow.tracking.fluent: Experiment with name 'nyc-taxi-duration-prediction' does not exist. Creating a new experiment.\n"
     ]
    },
    {
     "name": "stdout",
     "output_type": "stream",
     "text": [
      "MLflow Tracking URI set to: http://127.0.0.1:5001\n",
      "MLflow Experiment set to: nyc-taxi-duration-prediction\n"
     ]
    }
   ],
   "source": [
    "import pandas as pd\n",
    "import numpy as np\n",
    "import pickle\n",
    "from sklearn.feature_extraction import DictVectorizer\n",
    "from sklearn.linear_model import LinearRegression, Lasso\n",
    "from sklearn.metrics import mean_squared_error\n",
    "\n",
    "import mlflow\n",
    "import os\n",
    "\n",
    "# ----------------------------------------------------------------------\n",
    "# 💡 CRITICAL: Ensure this matches your persistent MLflow server endpoint\n",
    "# ----------------------------------------------------------------------\n",
    "MLFLOW_TRACKING_URI = \"http://127.0.0.1:5001\" \n",
    "EXPERIMENT_NAME = \"nyc-taxi-duration-prediction\"\n",
    "\n",
    "mlflow.set_tracking_uri(MLFLOW_TRACKING_URI)\n",
    "mlflow.set_experiment(EXPERIMENT_NAME)\n",
    "\n",
    "print(f\"MLflow Tracking URI set to: {mlflow.get_tracking_uri()}\")\n",
    "print(f\"MLflow Experiment set to: {EXPERIMENT_NAME}\")"
   ]
  },
  {
   "cell_type": "code",
   "execution_count": 86,
   "id": "a4e86bb6-93c4-488f-999a-36e5d824e951",
   "metadata": {},
   "outputs": [
    {
     "name": "stdout",
     "output_type": "stream",
     "text": [
      "Train matrix size: 73908 rows, 13221 features\n",
      "Validation matrix size: 61921 rows, 13221 features\n"
     ]
    }
   ],
   "source": [
    "# Assuming your data is located here on the VM:\n",
    "data_path_train = '~/notebooks/data/green_tripdata_2021-01.parquet'\n",
    "data_path_val = '~/notebooks/data/green_tripdata_2021-02.parquet'\n",
    "\n",
    "df_train = read_dataframe(data_path_train)\n",
    "df_val = read_dataframe(data_path_val)\n",
    "\n",
    "# Feature Engineering: Combine pickup and dropoff\n",
    "df_train['PU_DO'] = df_train['PULocationID'] + '_' + df_train['DOLocationID']\n",
    "df_val['PU_DO'] = df_val['PULocationID'] + '_' + df_val['DOLocationID']\n",
    "\n",
    "categorical = ['PU_DO']\n",
    "numerical = ['trip_distance']\n",
    "target = 'duration'\n",
    "\n",
    "# Prepare feature matrices\n",
    "dv = DictVectorizer()\n",
    "\n",
    "train_dicts = df_train[categorical + numerical].to_dict(orient='records')\n",
    "X_train = dv.fit_transform(train_dicts)\n",
    "y_train = df_train[target].values\n",
    "\n",
    "val_dicts = df_val[categorical + numerical].to_dict(orient='records')\n",
    "X_val = dv.transform(val_dicts)\n",
    "y_val = df_val[target].values\n",
    "\n",
    "print(f\"Train matrix size: {X_train.shape[0]} rows, {X_train.shape[1]} features\")\n",
    "print(f\"Validation matrix size: {X_val.shape[0]} rows, {X_val.shape[1]} features\")\n",
    "\n",
    "# Save DictVectorizer artifact locally for logging\n",
    "with open('../models/dv.bin', 'wb') as f_out:\n",
    "    pickle.dump(dv, f_out)"
   ]
  },
  {
   "cell_type": "code",
   "execution_count": 87,
   "id": "c878878c-d3c5-4a56-ba8a-6e27a5e7bc66",
   "metadata": {},
   "outputs": [
    {
     "name": "stdout",
     "output_type": "stream",
     "text": [
      "Train matrix size: 73908 rows, 13221 features\n",
      "Validation matrix size: 61921 rows, 13221 features\n"
     ]
    }
   ],
   "source": [
    "# Assuming your data is located here on the VM:\n",
    "data_path_train = '~/notebooks/data/green_tripdata_2021-01.parquet'\n",
    "data_path_val = '~/notebooks/data/green_tripdata_2021-02.parquet'\n",
    "\n",
    "df_train = read_dataframe(data_path_train)\n",
    "df_val = read_dataframe(data_path_val)\n",
    "\n",
    "# Feature Engineering: Combine pickup and dropoff\n",
    "df_train['PU_DO'] = df_train['PULocationID'] + '_' + df_train['DOLocationID']\n",
    "df_val['PU_DO'] = df_val['PULocationID'] + '_' + df_val['DOLocationID']\n",
    "\n",
    "categorical = ['PU_DO']\n",
    "numerical = ['trip_distance']\n",
    "target = 'duration'\n",
    "\n",
    "# Prepare feature matrices\n",
    "dv = DictVectorizer()\n",
    "\n",
    "train_dicts = df_train[categorical + numerical].to_dict(orient='records')\n",
    "X_train = dv.fit_transform(train_dicts)\n",
    "y_train = df_train[target].values\n",
    "\n",
    "val_dicts = df_val[categorical + numerical].to_dict(orient='records')\n",
    "X_val = dv.transform(val_dicts)\n",
    "y_val = df_val[target].values\n",
    "\n",
    "print(f\"Train matrix size: {X_train.shape[0]} rows, {X_train.shape[1]} features\")\n",
    "print(f\"Validation matrix size: {X_val.shape[0]} rows, {X_val.shape[1]} features\")\n",
    "\n",
    "# Save DictVectorizer artifact locally for logging\n",
    "with open('../models/dv.bin', 'wb') as f_out:\n",
    "    pickle.dump(dv, f_out)"
   ]
  },
  {
   "cell_type": "code",
   "execution_count": 88,
   "id": "77598793-24e5-4a02-a4bc-aba6548b0dd5",
   "metadata": {},
   "outputs": [
    {
     "name": "stderr",
     "output_type": "stream",
     "text": [
      "2025/10/29 06:56:46 WARNING mlflow.models.model: `artifact_path` is deprecated. Please use `name` instead.\n",
      "2025/10/29 06:56:46 WARNING mlflow.models.signature: Failed to infer the model signature from the input example. Reason: ValueError('Expected 2D array, got 1D array instead:\\narray=[0.   0.   0.   ... 0.   0.   1.01].\\nReshape your data either using array.reshape(-1, 1) if your data has a single feature or array.reshape(1, -1) if it contains a single sample.'). To see the full traceback, set the logging level to DEBUG via `logging.getLogger(\"mlflow\").setLevel(logging.DEBUG)`.\n",
      "2025/10/29 06:56:49 WARNING mlflow.models.model: Failed to validate serving input example {\n",
      "  \"inputs\": [\n",
      "    0.0,\n",
      "    0.0,\n",
      "    0.0,\n",
      "    0.0.... Alternatively, you can avoid passing input example and pass model signature instead when logging the model. To ensure the input example is valid prior to serving, please try calling `mlflow.models.validate_serving_input` on the model uri and serving input example. A serving input example can be generated from model input example using `mlflow.models.convert_input_example_to_serving_input` function.\n",
      "Got error: Expected 2D array, got 1D array instead:\n",
      "array=[0.   0.   0.   ... 0.   0.   1.01].\n",
      "Reshape your data either using array.reshape(-1, 1) if your data has a single feature or array.reshape(1, -1) if it contains a single sample.\n",
      "Successfully registered model 'LassoRegression'.\n",
      "2025/10/29 06:56:50 INFO mlflow.store.model_registry.abstract_store: Waiting up to 300 seconds for model version to finish creation. Model name: LassoRegression, version 1\n",
      "Created version '1' of model 'LassoRegression'.\n"
     ]
    },
    {
     "name": "stdout",
     "output_type": "stream",
     "text": [
      "Lasso RMSE: 12.212582619743364\n",
      "Run ID: 6e55c89511ce4dd29915c6ea1ec53035\n",
      "🏃 View run LassoRegression-alpha-0.5 at: http://127.0.0.1:5001/#/experiments/127727476320843553/runs/6e55c89511ce4dd29915c6ea1ec53035\n",
      "🧪 View experiment at: http://127.0.0.1:5001/#/experiments/127727476320843553\n"
     ]
    }
   ],
   "source": [
    "# Define Hyperparameters\n",
    "ALPHA = 0.5\n",
    "MODEL_NAME = \"LassoRegression\"\n",
    "\n",
    "with mlflow.start_run(run_name=f\"{MODEL_NAME}-alpha-{ALPHA}\") as run:\n",
    "    \n",
    "    # --- MLflow Tags ---\n",
    "    mlflow.set_tag(\"developer\", \"shirangi\")\n",
    "    mlflow.set_tag(\"model_type\", MODEL_NAME)\n",
    "    mlflow.set_tag(\"training_data_month\", \"2021-01\")\n",
    "    mlflow.set_tag(\"validation_data_month\", \"2021-02\")\n",
    "\n",
    "    # --- MLflow Parameters ---\n",
    "    mlflow.log_param(\"alpha\", ALPHA)\n",
    "    mlflow.log_param(\"features\", categorical + numerical)\n",
    "    mlflow.log_param(\"target\", target)\n",
    "    # Log the full data paths for reproducibility\n",
    "    mlflow.log_param(\"train-data-path\", data_path_train) \n",
    "    mlflow.log_param(\"valid-data-path\", data_path_val)\n",
    "\n",
    "    # --- Training ---\n",
    "    lr = Lasso(alpha=ALPHA)\n",
    "    lr.fit(X_train, y_train)\n",
    "\n",
    "    y_pred = lr.predict(X_val)\n",
    "    rmse = np.sqrt(mean_squared_error(y_val, y_pred))\n",
    "\n",
    "    # --- MLflow Metrics ---\n",
    "    mlflow.log_metric(\"rmse\", rmse)\n",
    "    \n",
    "    # Log feature count (useful metric for sparse models)\n",
    "    mlflow.log_metric(\"feature_count\", X_train.shape[1])\n",
    "    \n",
    "    # --- MLflow Artifacts ---\n",
    "    # Log the DictVectorizer as an artifact\n",
    "    mlflow.log_artifact(local_path=\"../models/dv.bin\", artifact_path=\"preprocessor\")\n",
    "\n",
    "    # Log the model using the native MLflow format\n",
    "    # This automatically includes the model code, environment, and dependencies.\n",
    "    mlflow.sklearn.log_model(\n",
    "        sk_model=lr, \n",
    "        artifact_path=\"model\",\n",
    "        # Log training set metrics and parameters\n",
    "        input_example=X_train[0].toarray()[0],\n",
    "        registered_model_name=MODEL_NAME # This registers the model if using a database backend (Scenario 2/3)\n",
    "    )\n",
    "    \n",
    "    print(f\"Lasso RMSE: {rmse}\")\n",
    "    print(f\"Run ID: {run.info.run_id}\")"
   ]
  },
  {
   "cell_type": "code",
   "execution_count": 91,
   "id": "314c2b45-7bc6-4ffe-bb11-7ec5bd1276aa",
   "metadata": {},
   "outputs": [],
   "source": [
    "import xgboost as xgb\n",
    "from hyperopt import fmin, tpe, hp, STATUS_OK, Trials\n",
    "from hyperopt.pyll import scope\n",
    "from datetime import datetime\n",
    "\n",
    "# Prepare DMatrix objects (assuming this part is correct from previous steps)\n",
    "# train = xgb.DMatrix(X_train, label=y_train)\n",
    "# valid = xgb.DMatrix(X_val, label=y_val)\n",
    "\n",
    "def objective(params):\n",
    "    with mlflow.start_run(run_name=\"XGBoost-Tuning-\" + datetime.now().strftime(\"%H%M%S\")):\n",
    "        \n",
    "        # --- MLflow Tags ---\n",
    "        mlflow.set_tag(\"developer\", \"shirangi\")\n",
    "        mlflow.set_tag(\"model_type\", \"xgboost\")\n",
    "        mlflow.set_tag(\"optimization_algorithm\", \"Hyperopt TPE\")\n",
    "        \n",
    "        # Log parameters *before* training\n",
    "        mlflow.log_params(params)\n",
    "        \n",
    "        # --- Training ---\n",
    "        booster = xgb.train(\n",
    "            params=params,\n",
    "            dtrain=train,\n",
    "            num_boost_round=1000,\n",
    "            evals=[(valid, 'validation')],\n",
    "            early_stopping_rounds=50,\n",
    "            verbose_eval=False\n",
    "        )\n",
    "        \n",
    "        y_pred = booster.predict(valid)\n",
    "        \n",
    "        # 💡 CORRECTED LINE: Use np.sqrt() instead of unsupported squared=False\n",
    "        rmse = np.sqrt(mean_squared_error(y_val, y_pred))\n",
    "        \n",
    "        # --- MLflow Metrics ---\n",
    "        mlflow.log_metric(\"rmse\", rmse)\n",
    "        mlflow.log_metric(\"best_iteration\", booster.best_iteration)\n",
    "        \n",
    "        # --- MLflow Artifacts ---\n",
    "        # Log model using the native MLflow format\n",
    "        mlflow.xgboost.log_model(\n",
    "            xgb_model=booster, \n",
    "            artifact_path=\"model\", \n",
    "            registered_model_name=\"XGBoostModel\"\n",
    "        )\n",
    "\n",
    "    return {'loss': rmse, 'status': STATUS_OK}\n",
    "\n",
    "# Define the search space (kept the same)\n",
    "search_space = hp.choice('hyperparameters', [\n",
    "    {\n",
    "        'max_depth': scope.int(hp.quniform('max_depth', 4, 10, 1)),\n",
    "        'learning_rate': hp.loguniform('learning_rate', -3, 0),\n",
    "        'reg_alpha': hp.loguniform('reg_alpha', -5, -1),\n",
    "        'reg_lambda': hp.loguniform('reg_lambda', -6, -1),\n",
    "        'min_child_weight': hp.loguniform('min_child_weight', -1, 3),\n",
    "        'objective': 'reg:linear', # Note: XGBoost will issue a deprecation warning, but it's common in this context\n",
    "        'seed': 42\n",
    "    }\n",
    "])"
   ]
  },
  {
   "cell_type": "code",
   "execution_count": null,
   "id": "bbf3b915-fc75-4486-aa5f-898da3d2ba48",
   "metadata": {},
   "outputs": [
    {
     "name": "stdout",
     "output_type": "stream",
     "text": [
      "  0%|                                                                                                                                                                                                       | 0/50 [00:00<?, ?trial/s, best loss=?]"
     ]
    },
    {
     "name": "stderr",
     "output_type": "stream",
     "text": [
      "/home/ubuntu/anaconda3/envs/.venv/lib/python3.13/site-packages/xgboost/callback.py:386: UserWarning: [07:03:10] WARNING: /workspace/src/objective/regression_obj.cu:282: reg:linear is now deprecated in favor of reg:squarederror.\n",
      "  self.starting_round = model.num_boosted_rounds()\n",
      "\n",
      "2025/10/29 07:03:40 WARNING mlflow.models.model: `artifact_path` is deprecated. Please use `name` instead.\n",
      "\n",
      "/home/ubuntu/anaconda3/envs/.venv/lib/python3.13/site-packages/mlflow/xgboost/__init__.py:169: UserWarning: [07:03:40] WARNING: /workspace/src/c_api/c_api.cc:1575: Saving model in the UBJSON format as default.  You can use a file extension: `json` or `ubj` to choose between formats.\n",
      "  xgb_model.save_model(model_data_path)\n",
      "\n",
      "\u001b[31m2025/10/29 07:03:43 WARNING mlflow.models.model: Model logged without a signature and input example. Please set `input_example` parameter when logging the model to auto infer the model signature.\u001b[0m\n",
      "\n",
      "Successfully registered model 'XGBoostModel'.\n",
      "2025/10/29 07:03:43 INFO mlflow.store.model_registry.abstract_store: Waiting up to 300 seconds for model version to finish creation. Model name: XGBoostModel, version 1\n",
      "\n",
      "Created version '1' of model 'XGBoostModel'.\n"
     ]
    },
    {
     "name": "stdout",
     "output_type": "stream",
     "text": [
      "🏃 View run XGBoost-Tuning-070310 at: http://127.0.0.1:5001/#/experiments/127727476320843553/runs/ac9bf39d509d446c9a260195d313d22d                                                                                                                 \n",
      "\n",
      "🧪 View experiment at: http://127.0.0.1:5001/#/experiments/127727476320843553                                                                                                                                                                      \n",
      "\n",
      "  2%|███▍                                                                                                                                                                          | 1/50 [00:33<27:36, 33.80s/trial, best loss: 6.622337818536132]"
     ]
    },
    {
     "name": "stderr",
     "output_type": "stream",
     "text": [
      "/home/ubuntu/anaconda3/envs/.venv/lib/python3.13/site-packages/xgboost/callback.py:386: UserWarning: [07:03:44] WARNING: /workspace/src/objective/regression_obj.cu:282: reg:linear is now deprecated in favor of reg:squarederror.\n",
      "  self.starting_round = model.num_boosted_rounds()\n",
      "\n",
      "2025/10/29 07:04:12 WARNING mlflow.models.model: `artifact_path` is deprecated. Please use `name` instead.\n",
      "\n",
      "/home/ubuntu/anaconda3/envs/.venv/lib/python3.13/site-packages/mlflow/xgboost/__init__.py:169: UserWarning: [07:04:12] WARNING: /workspace/src/c_api/c_api.cc:1575: Saving model in the UBJSON format as default.  You can use a file extension: `json` or `ubj` to choose between formats.\n",
      "  xgb_model.save_model(model_data_path)\n",
      "\n",
      "\u001b[31m2025/10/29 07:04:15 WARNING mlflow.models.model: Model logged without a signature and input example. Please set `input_example` parameter when logging the model to auto infer the model signature.\u001b[0m\n",
      "\n",
      "Registered model 'XGBoostModel' already exists. Creating a new version of this model...\n",
      "2025/10/29 07:04:15 INFO mlflow.store.model_registry.abstract_store: Waiting up to 300 seconds for model version to finish creation. Model name: XGBoostModel, version 2\n",
      "\n",
      "Created version '2' of model 'XGBoostModel'.\n"
     ]
    },
    {
     "name": "stdout",
     "output_type": "stream",
     "text": [
      "🏃 View run XGBoost-Tuning-070343 at: http://127.0.0.1:5001/#/experiments/127727476320843553/runs/2e50b73d77654cf889ef8a2b9493c74f                                                                                                                 \n",
      "\n",
      "🧪 View experiment at: http://127.0.0.1:5001/#/experiments/127727476320843553                                                                                                                                                                      \n",
      "\n",
      "  4%|██████▉                                                                                                                                                                       | 2/50 [01:05<26:17, 32.86s/trial, best loss: 6.607523656548425]"
     ]
    },
    {
     "name": "stderr",
     "output_type": "stream",
     "text": [
      "/home/ubuntu/anaconda3/envs/.venv/lib/python3.13/site-packages/xgboost/callback.py:386: UserWarning: [07:04:16] WARNING: /workspace/src/objective/regression_obj.cu:282: reg:linear is now deprecated in favor of reg:squarederror.\n",
      "  self.starting_round = model.num_boosted_rounds()\n",
      "\n",
      "2025/10/29 07:04:51 WARNING mlflow.models.model: `artifact_path` is deprecated. Please use `name` instead.\n",
      "\n",
      "/home/ubuntu/anaconda3/envs/.venv/lib/python3.13/site-packages/mlflow/xgboost/__init__.py:169: UserWarning: [07:04:51] WARNING: /workspace/src/c_api/c_api.cc:1575: Saving model in the UBJSON format as default.  You can use a file extension: `json` or `ubj` to choose between formats.\n",
      "  xgb_model.save_model(model_data_path)\n",
      "\n",
      "\u001b[31m2025/10/29 07:04:54 WARNING mlflow.models.model: Model logged without a signature and input example. Please set `input_example` parameter when logging the model to auto infer the model signature.\u001b[0m\n",
      "\n",
      "Registered model 'XGBoostModel' already exists. Creating a new version of this model...\n",
      "2025/10/29 07:04:54 INFO mlflow.store.model_registry.abstract_store: Waiting up to 300 seconds for model version to finish creation. Model name: XGBoostModel, version 3\n",
      "\n",
      "Created version '3' of model 'XGBoostModel'.\n"
     ]
    },
    {
     "name": "stdout",
     "output_type": "stream",
     "text": [
      "🏃 View run XGBoost-Tuning-070416 at: http://127.0.0.1:5001/#/experiments/127727476320843553/runs/04f3f2c253bc4b2cbe423a17aacd2f33                                                                                                                 \n",
      "\n",
      "🧪 View experiment at: http://127.0.0.1:5001/#/experiments/127727476320843553                                                                                                                                                                      \n",
      "\n",
      "  6%|██████████▍                                                                                                                                                                   | 3/50 [01:44<27:46, 35.46s/trial, best loss: 6.607523656548425]"
     ]
    },
    {
     "name": "stderr",
     "output_type": "stream",
     "text": [
      "/home/ubuntu/anaconda3/envs/.venv/lib/python3.13/site-packages/xgboost/callback.py:386: UserWarning: [07:04:54] WARNING: /workspace/src/objective/regression_obj.cu:282: reg:linear is now deprecated in favor of reg:squarederror.\n",
      "  self.starting_round = model.num_boosted_rounds()\n",
      "\n",
      "2025/10/29 07:05:27 WARNING mlflow.models.model: `artifact_path` is deprecated. Please use `name` instead.\n",
      "\n",
      "/home/ubuntu/anaconda3/envs/.venv/lib/python3.13/site-packages/mlflow/xgboost/__init__.py:169: UserWarning: [07:05:28] WARNING: /workspace/src/c_api/c_api.cc:1575: Saving model in the UBJSON format as default.  You can use a file extension: `json` or `ubj` to choose between formats.\n",
      "  xgb_model.save_model(model_data_path)\n",
      "\n",
      "\u001b[31m2025/10/29 07:05:30 WARNING mlflow.models.model: Model logged without a signature and input example. Please set `input_example` parameter when logging the model to auto infer the model signature.\u001b[0m\n",
      "\n",
      "Registered model 'XGBoostModel' already exists. Creating a new version of this model...\n",
      "2025/10/29 07:05:31 INFO mlflow.store.model_registry.abstract_store: Waiting up to 300 seconds for model version to finish creation. Model name: XGBoostModel, version 4\n",
      "\n",
      "Created version '4' of model 'XGBoostModel'.\n"
     ]
    },
    {
     "name": "stdout",
     "output_type": "stream",
     "text": [
      "🏃 View run XGBoost-Tuning-070454 at: http://127.0.0.1:5001/#/experiments/127727476320843553/runs/0e56ea5df09c4e8cb15e237150109be7                                                                                                                 \n",
      "\n",
      "🧪 View experiment at: http://127.0.0.1:5001/#/experiments/127727476320843553                                                                                                                                                                      \n",
      "\n",
      "  8%|█████████████▉                                                                                                                                                                | 4/50 [02:21<27:33, 35.94s/trial, best loss: 6.329518011051609]"
     ]
    },
    {
     "name": "stderr",
     "output_type": "stream",
     "text": [
      "/home/ubuntu/anaconda3/envs/.venv/lib/python3.13/site-packages/xgboost/callback.py:386: UserWarning: [07:05:31] WARNING: /workspace/src/objective/regression_obj.cu:282: reg:linear is now deprecated in favor of reg:squarederror.\n",
      "  self.starting_round = model.num_boosted_rounds()\n",
      "\n",
      "2025/10/29 07:06:04 WARNING mlflow.models.model: `artifact_path` is deprecated. Please use `name` instead.\n",
      "\n",
      "/home/ubuntu/anaconda3/envs/.venv/lib/python3.13/site-packages/mlflow/xgboost/__init__.py:169: UserWarning: [07:06:04] WARNING: /workspace/src/c_api/c_api.cc:1575: Saving model in the UBJSON format as default.  You can use a file extension: `json` or `ubj` to choose between formats.\n",
      "  xgb_model.save_model(model_data_path)\n",
      "\n",
      "\u001b[31m2025/10/29 07:06:07 WARNING mlflow.models.model: Model logged without a signature and input example. Please set `input_example` parameter when logging the model to auto infer the model signature.\u001b[0m\n",
      "\n",
      "Registered model 'XGBoostModel' already exists. Creating a new version of this model...\n",
      "2025/10/29 07:06:07 INFO mlflow.store.model_registry.abstract_store: Waiting up to 300 seconds for model version to finish creation. Model name: XGBoostModel, version 5\n",
      "\n",
      "Created version '5' of model 'XGBoostModel'.\n"
     ]
    },
    {
     "name": "stdout",
     "output_type": "stream",
     "text": [
      "🏃 View run XGBoost-Tuning-070531 at: http://127.0.0.1:5001/#/experiments/127727476320843553/runs/f7dd5b8849624a168dec22cf5dd3ad80                                                                                                                 \n",
      "\n",
      "🧪 View experiment at: http://127.0.0.1:5001/#/experiments/127727476320843553                                                                                                                                                                      \n",
      "\n",
      " 10%|█████████████████▍                                                                                                                                                            | 5/50 [02:58<27:11, 36.25s/trial, best loss: 6.329518011051609]"
     ]
    },
    {
     "name": "stderr",
     "output_type": "stream",
     "text": [
      "/home/ubuntu/anaconda3/envs/.venv/lib/python3.13/site-packages/xgboost/callback.py:386: UserWarning: [07:06:08] WARNING: /workspace/src/objective/regression_obj.cu:282: reg:linear is now deprecated in favor of reg:squarederror.\n",
      "  self.starting_round = model.num_boosted_rounds()\n",
      "\n",
      "2025/10/29 07:06:43 WARNING mlflow.models.model: `artifact_path` is deprecated. Please use `name` instead.\n",
      "\n",
      "/home/ubuntu/anaconda3/envs/.venv/lib/python3.13/site-packages/mlflow/xgboost/__init__.py:169: UserWarning: [07:06:43] WARNING: /workspace/src/c_api/c_api.cc:1575: Saving model in the UBJSON format as default.  You can use a file extension: `json` or `ubj` to choose between formats.\n",
      "  xgb_model.save_model(model_data_path)\n",
      "\n",
      "\u001b[31m2025/10/29 07:06:46 WARNING mlflow.models.model: Model logged without a signature and input example. Please set `input_example` parameter when logging the model to auto infer the model signature.\u001b[0m\n",
      "\n",
      "Registered model 'XGBoostModel' already exists. Creating a new version of this model...\n",
      "2025/10/29 07:06:46 INFO mlflow.store.model_registry.abstract_store: Waiting up to 300 seconds for model version to finish creation. Model name: XGBoostModel, version 6\n",
      "\n",
      "Created version '6' of model 'XGBoostModel'.\n"
     ]
    },
    {
     "name": "stdout",
     "output_type": "stream",
     "text": [
      "🏃 View run XGBoost-Tuning-070608 at: http://127.0.0.1:5001/#/experiments/127727476320843553/runs/bd5d692d956f43758afeb1c8055f85d8                                                                                                                 \n",
      "\n",
      "🧪 View experiment at: http://127.0.0.1:5001/#/experiments/127727476320843553                                                                                                                                                                      \n",
      "\n",
      " 12%|████████████████████▉                                                                                                                                                         | 6/50 [03:36<27:09, 37.04s/trial, best loss: 6.329518011051609]"
     ]
    },
    {
     "name": "stderr",
     "output_type": "stream",
     "text": [
      "/home/ubuntu/anaconda3/envs/.venv/lib/python3.13/site-packages/xgboost/callback.py:386: UserWarning: [07:06:46] WARNING: /workspace/src/objective/regression_obj.cu:282: reg:linear is now deprecated in favor of reg:squarederror.\n",
      "  self.starting_round = model.num_boosted_rounds()\n",
      "\n",
      "2025/10/29 07:07:21 WARNING mlflow.models.model: `artifact_path` is deprecated. Please use `name` instead.\n",
      "\n",
      "/home/ubuntu/anaconda3/envs/.venv/lib/python3.13/site-packages/mlflow/xgboost/__init__.py:169: UserWarning: [07:07:21] WARNING: /workspace/src/c_api/c_api.cc:1575: Saving model in the UBJSON format as default.  You can use a file extension: `json` or `ubj` to choose between formats.\n",
      "  xgb_model.save_model(model_data_path)\n",
      "\n",
      "\u001b[31m2025/10/29 07:07:24 WARNING mlflow.models.model: Model logged without a signature and input example. Please set `input_example` parameter when logging the model to auto infer the model signature.\u001b[0m\n",
      "\n",
      "Registered model 'XGBoostModel' already exists. Creating a new version of this model...\n",
      "2025/10/29 07:07:24 INFO mlflow.store.model_registry.abstract_store: Waiting up to 300 seconds for model version to finish creation. Model name: XGBoostModel, version 7\n",
      "\n",
      "Created version '7' of model 'XGBoostModel'.\n"
     ]
    },
    {
     "name": "stdout",
     "output_type": "stream",
     "text": [
      "🏃 View run XGBoost-Tuning-070646 at: http://127.0.0.1:5001/#/experiments/127727476320843553/runs/008a1944006446b3a63e5e3c6c3b4208                                                                                                                 \n",
      "\n",
      "🧪 View experiment at: http://127.0.0.1:5001/#/experiments/127727476320843553                                                                                                                                                                      \n",
      "\n",
      " 14%|████████████████████████▎                                                                                                                                                     | 7/50 [04:14<26:49, 37.43s/trial, best loss: 6.329518011051609]"
     ]
    },
    {
     "name": "stderr",
     "output_type": "stream",
     "text": [
      "/home/ubuntu/anaconda3/envs/.venv/lib/python3.13/site-packages/xgboost/callback.py:386: UserWarning: [07:07:25] WARNING: /workspace/src/objective/regression_obj.cu:282: reg:linear is now deprecated in favor of reg:squarederror.\n",
      "  self.starting_round = model.num_boosted_rounds()\n",
      "\n",
      "2025/10/29 07:07:53 WARNING mlflow.models.model: `artifact_path` is deprecated. Please use `name` instead.\n",
      "\n",
      "/home/ubuntu/anaconda3/envs/.venv/lib/python3.13/site-packages/mlflow/xgboost/__init__.py:169: UserWarning: [07:07:53] WARNING: /workspace/src/c_api/c_api.cc:1575: Saving model in the UBJSON format as default.  You can use a file extension: `json` or `ubj` to choose between formats.\n",
      "  xgb_model.save_model(model_data_path)\n",
      "\n",
      "\u001b[31m2025/10/29 07:07:56 WARNING mlflow.models.model: Model logged without a signature and input example. Please set `input_example` parameter when logging the model to auto infer the model signature.\u001b[0m\n",
      "\n",
      "Registered model 'XGBoostModel' already exists. Creating a new version of this model...\n",
      "2025/10/29 07:07:56 INFO mlflow.store.model_registry.abstract_store: Waiting up to 300 seconds for model version to finish creation. Model name: XGBoostModel, version 8\n",
      "\n",
      "Created version '8' of model 'XGBoostModel'.\n"
     ]
    },
    {
     "name": "stdout",
     "output_type": "stream",
     "text": [
      "🏃 View run XGBoost-Tuning-070724 at: http://127.0.0.1:5001/#/experiments/127727476320843553/runs/96f87a51339e43d98865b0cc4851cbca                                                                                                                 \n",
      "\n",
      "🧪 View experiment at: http://127.0.0.1:5001/#/experiments/127727476320843553                                                                                                                                                                      \n",
      "\n",
      " 16%|███████████████████████████▊                                                                                                                                                  | 8/50 [04:46<25:01, 35.74s/trial, best loss: 6.329518011051609]"
     ]
    },
    {
     "name": "stderr",
     "output_type": "stream",
     "text": [
      "/home/ubuntu/anaconda3/envs/.venv/lib/python3.13/site-packages/xgboost/callback.py:386: UserWarning: [07:07:57] WARNING: /workspace/src/objective/regression_obj.cu:282: reg:linear is now deprecated in favor of reg:squarederror.\n",
      "  self.starting_round = model.num_boosted_rounds()\n",
      "\n",
      "2025/10/29 07:08:29 WARNING mlflow.models.model: `artifact_path` is deprecated. Please use `name` instead.\n",
      "\n",
      "/home/ubuntu/anaconda3/envs/.venv/lib/python3.13/site-packages/mlflow/xgboost/__init__.py:169: UserWarning: [07:08:29] WARNING: /workspace/src/c_api/c_api.cc:1575: Saving model in the UBJSON format as default.  You can use a file extension: `json` or `ubj` to choose between formats.\n",
      "  xgb_model.save_model(model_data_path)\n",
      "\n",
      "\u001b[31m2025/10/29 07:08:32 WARNING mlflow.models.model: Model logged without a signature and input example. Please set `input_example` parameter when logging the model to auto infer the model signature.\u001b[0m\n",
      "\n",
      "Registered model 'XGBoostModel' already exists. Creating a new version of this model...\n",
      "2025/10/29 07:08:32 INFO mlflow.store.model_registry.abstract_store: Waiting up to 300 seconds for model version to finish creation. Model name: XGBoostModel, version 9\n",
      "\n",
      "Created version '9' of model 'XGBoostModel'.\n"
     ]
    },
    {
     "name": "stdout",
     "output_type": "stream",
     "text": [
      "🏃 View run XGBoost-Tuning-070757 at: http://127.0.0.1:5001/#/experiments/127727476320843553/runs/5485c27e551e49efbcb31f02d38dfb34                                                                                                                 \n",
      "\n",
      "🧪 View experiment at: http://127.0.0.1:5001/#/experiments/127727476320843553                                                                                                                                                                      \n",
      "\n",
      " 18%|███████████████████████████████▎                                                                                                                                              | 9/50 [05:22<24:25, 35.74s/trial, best loss: 6.329518011051609]"
     ]
    },
    {
     "name": "stderr",
     "output_type": "stream",
     "text": [
      "/home/ubuntu/anaconda3/envs/.venv/lib/python3.13/site-packages/xgboost/callback.py:386: UserWarning: [07:08:33] WARNING: /workspace/src/objective/regression_obj.cu:282: reg:linear is now deprecated in favor of reg:squarederror.\n",
      "  self.starting_round = model.num_boosted_rounds()\n",
      "\n",
      "2025/10/29 07:09:04 WARNING mlflow.models.model: `artifact_path` is deprecated. Please use `name` instead.\n",
      "\n",
      "/home/ubuntu/anaconda3/envs/.venv/lib/python3.13/site-packages/mlflow/xgboost/__init__.py:169: UserWarning: [07:09:04] WARNING: /workspace/src/c_api/c_api.cc:1575: Saving model in the UBJSON format as default.  You can use a file extension: `json` or `ubj` to choose between formats.\n",
      "  xgb_model.save_model(model_data_path)\n",
      "\n",
      "\u001b[31m2025/10/29 07:09:07 WARNING mlflow.models.model: Model logged without a signature and input example. Please set `input_example` parameter when logging the model to auto infer the model signature.\u001b[0m\n",
      "\n",
      "Registered model 'XGBoostModel' already exists. Creating a new version of this model...\n",
      "2025/10/29 07:09:07 INFO mlflow.store.model_registry.abstract_store: Waiting up to 300 seconds for model version to finish creation. Model name: XGBoostModel, version 10\n",
      "\n",
      "Created version '10' of model 'XGBoostModel'.\n"
     ]
    },
    {
     "name": "stdout",
     "output_type": "stream",
     "text": [
      "🏃 View run XGBoost-Tuning-070832 at: http://127.0.0.1:5001/#/experiments/127727476320843553/runs/154be7b78a524ba7a6a511b25b68c563                                                                                                                 \n",
      "\n",
      "🧪 View experiment at: http://127.0.0.1:5001/#/experiments/127727476320843553                                                                                                                                                                      \n",
      "\n",
      " 20%|██████████████████████████████████▌                                                                                                                                          | 10/50 [05:57<23:40, 35.51s/trial, best loss: 6.329518011051609]"
     ]
    },
    {
     "name": "stderr",
     "output_type": "stream",
     "text": [
      "/home/ubuntu/anaconda3/envs/.venv/lib/python3.13/site-packages/xgboost/callback.py:386: UserWarning: [07:09:08] WARNING: /workspace/src/objective/regression_obj.cu:282: reg:linear is now deprecated in favor of reg:squarederror.\n",
      "  self.starting_round = model.num_boosted_rounds()\n",
      "\n"
     ]
    }
   ],
   "source": [
    "# Run the hyperparameter optimization\n",
    "best_result = fmin(\n",
    "    fn=objective,\n",
    "    space=search_space,\n",
    "    algo=tpe.suggest,\n",
    "    max_evals=50, # Number of trials to run\n",
    "    trials=Trials()\n",
    ")\n",
    "\n",
    "print(\"\\nBest Hyperopt Parameters:\")\n",
    "print(best_result)"
   ]
  },
  {
   "cell_type": "code",
   "execution_count": null,
   "id": "a2e5e4c8-58c6-4980-9d02-70175e1bf6d4",
   "metadata": {},
   "outputs": [],
   "source": []
  }
 ],
 "metadata": {
  "interpreter": {
   "hash": "0848c9d6c7d415ad6c477ff7ff8e98694d1a4aa96d0deee89244642e6b630036"
  },
  "kernelspec": {
   "display_name": "Python 3 (ipykernel)",
   "language": "python",
   "name": "python3"
  },
  "language_info": {
   "codemirror_mode": {
    "name": "ipython",
    "version": 3
   },
   "file_extension": ".py",
   "mimetype": "text/x-python",
   "name": "python",
   "nbconvert_exporter": "python",
   "pygments_lexer": "ipython3",
   "version": "3.13.9"
  }
 },
 "nbformat": 4,
 "nbformat_minor": 5
}
