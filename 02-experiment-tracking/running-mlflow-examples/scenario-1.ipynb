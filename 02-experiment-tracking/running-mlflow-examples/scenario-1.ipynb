{
 "cells": [
  {
   "cell_type": "markdown",
   "metadata": {},
   "source": [
    "## Scenario 1: A single data scientist participating in an ML competition\n",
    "\n",
    "MLflow setup:\n",
    "* Tracking server: no\n",
    "* Backend store: local filesystem\n",
    "* Artifacts store: local filesystem\n",
    "\n",
    "The experiments can be explored locally by launching the MLflow UI."
   ]
  },
  {
   "cell_type": "code",
   "execution_count": 15,
   "metadata": {},
   "outputs": [
    {
     "name": "stdout",
     "output_type": "stream",
     "text": [
      "Tracking URI: 'sqlite:///mlruns.db'\n",
      "This scenario uses a local SQLite database for the backend.\n"
     ]
    },
    {
     "name": "stderr",
     "output_type": "stream",
     "text": [
      "2025/10/29 06:58:08 INFO mlflow.store.db.utils: Creating initial MLflow database tables...\n",
      "2025/10/29 06:58:08 INFO mlflow.store.db.utils: Updating database tables\n",
      "2025-10-29 06:58:08 INFO  [alembic.runtime.migration] Context impl SQLiteImpl.\n",
      "2025-10-29 06:58:08 INFO  [alembic.runtime.migration] Will assume non-transactional DDL.\n",
      "2025-10-29 06:58:08 INFO  [alembic.runtime.migration] Running upgrade  -> 451aebb31d03, add metric step\n",
      "2025-10-29 06:58:08 INFO  [alembic.runtime.migration] Running upgrade 451aebb31d03 -> 90e64c465722, migrate user column to tags\n",
      "2025-10-29 06:58:08 INFO  [alembic.runtime.migration] Running upgrade 90e64c465722 -> 181f10493468, allow nulls for metric values\n",
      "2025-10-29 06:58:08 INFO  [alembic.runtime.migration] Running upgrade 181f10493468 -> df50e92ffc5e, Add Experiment Tags Table\n",
      "2025-10-29 06:58:08 INFO  [alembic.runtime.migration] Running upgrade df50e92ffc5e -> 7ac759974ad8, Update run tags with larger limit\n",
      "2025-10-29 06:58:08 INFO  [alembic.runtime.migration] Running upgrade 7ac759974ad8 -> 89d4b8295536, create latest metrics table\n",
      "2025-10-29 06:58:08 INFO  [89d4b8295536_create_latest_metrics_table_py] Migration complete!\n",
      "2025-10-29 06:58:08 INFO  [alembic.runtime.migration] Running upgrade 89d4b8295536 -> 2b4d017a5e9b, add model registry tables to db\n",
      "2025-10-29 06:58:08 INFO  [2b4d017a5e9b_add_model_registry_tables_to_db_py] Adding registered_models and model_versions tables to database.\n",
      "2025-10-29 06:58:08 INFO  [2b4d017a5e9b_add_model_registry_tables_to_db_py] Migration complete!\n",
      "2025-10-29 06:58:08 INFO  [alembic.runtime.migration] Running upgrade 2b4d017a5e9b -> cfd24bdc0731, Update run status constraint with killed\n",
      "2025-10-29 06:58:08 INFO  [alembic.runtime.migration] Running upgrade cfd24bdc0731 -> 0a8213491aaa, drop_duplicate_killed_constraint\n",
      "2025-10-29 06:58:08 INFO  [alembic.runtime.migration] Running upgrade 0a8213491aaa -> 728d730b5ebd, add registered model tags table\n",
      "2025-10-29 06:58:08 INFO  [alembic.runtime.migration] Running upgrade 728d730b5ebd -> 27a6a02d2cf1, add model version tags table\n",
      "2025-10-29 06:58:08 INFO  [alembic.runtime.migration] Running upgrade 27a6a02d2cf1 -> 84291f40a231, add run_link to model_version\n",
      "2025-10-29 06:58:08 INFO  [alembic.runtime.migration] Running upgrade 84291f40a231 -> a8c4a736bde6, allow nulls for run_id\n",
      "2025-10-29 06:58:08 INFO  [alembic.runtime.migration] Running upgrade a8c4a736bde6 -> 39d1c3be5f05, add_is_nan_constraint_for_metrics_tables_if_necessary\n",
      "2025-10-29 06:58:08 INFO  [alembic.runtime.migration] Running upgrade 39d1c3be5f05 -> c48cb773bb87, reset_default_value_for_is_nan_in_metrics_table_for_mysql\n",
      "2025-10-29 06:58:08 INFO  [alembic.runtime.migration] Running upgrade c48cb773bb87 -> bd07f7e963c5, create index on run_uuid\n",
      "2025-10-29 06:58:08 INFO  [alembic.runtime.migration] Running upgrade bd07f7e963c5 -> 0c779009ac13, add deleted_time field to runs table\n",
      "2025-10-29 06:58:08 INFO  [alembic.runtime.migration] Running upgrade 0c779009ac13 -> cc1f77228345, change param value length to 500\n",
      "2025-10-29 06:58:09 INFO  [alembic.runtime.migration] Running upgrade cc1f77228345 -> 97727af70f4d, Add creation_time and last_update_time to experiments table\n",
      "2025-10-29 06:58:09 INFO  [alembic.runtime.migration] Running upgrade 97727af70f4d -> 3500859a5d39, Add Model Aliases table\n",
      "2025-10-29 06:58:09 INFO  [alembic.runtime.migration] Running upgrade 3500859a5d39 -> 7f2a7d5fae7d, add datasets inputs input_tags tables\n",
      "2025-10-29 06:58:09 INFO  [alembic.runtime.migration] Running upgrade 7f2a7d5fae7d -> 2d6e25af4d3e, increase max param val length from 500 to 8000\n",
      "2025-10-29 06:58:09 INFO  [alembic.runtime.migration] Running upgrade 2d6e25af4d3e -> acf3f17fdcc7, add storage location field to model versions\n",
      "2025-10-29 06:58:09 INFO  [alembic.runtime.migration] Running upgrade acf3f17fdcc7 -> 867495a8f9d4, add trace tables\n",
      "2025-10-29 06:58:09 INFO  [alembic.runtime.migration] Running upgrade 867495a8f9d4 -> 5b0e9adcef9c, add cascade deletion to trace tables foreign keys\n",
      "2025-10-29 06:58:09 INFO  [alembic.runtime.migration] Running upgrade 5b0e9adcef9c -> 4465047574b1, increase max dataset schema size\n",
      "2025-10-29 06:58:09 INFO  [alembic.runtime.migration] Running upgrade 4465047574b1 -> f5a4f2784254, increase run tag value limit to 8000\n",
      "2025-10-29 06:58:09 INFO  [alembic.runtime.migration] Running upgrade f5a4f2784254 -> 0584bdc529eb, add cascading deletion to datasets from experiments\n",
      "2025-10-29 06:58:09 INFO  [alembic.runtime.migration] Running upgrade 0584bdc529eb -> 400f98739977, add logged model tables\n",
      "2025-10-29 06:58:09 INFO  [alembic.runtime.migration] Running upgrade 400f98739977 -> 6953534de441, add step to inputs table\n",
      "2025-10-29 06:58:09 INFO  [alembic.runtime.migration] Running upgrade 6953534de441 -> bda7b8c39065, increase_model_version_tag_value_limit\n",
      "2025-10-29 06:58:09 INFO  [alembic.runtime.migration] Running upgrade bda7b8c39065 -> cbc13b556ace, add V3 trace schema columns\n",
      "2025-10-29 06:58:09 INFO  [alembic.runtime.migration] Running upgrade cbc13b556ace -> 770bee3ae1dd, add assessments table\n",
      "2025-10-29 06:58:09 INFO  [alembic.runtime.migration] Running upgrade 770bee3ae1dd -> a1b2c3d4e5f6, add spans table\n",
      "2025-10-29 06:58:09 INFO  [alembic.runtime.migration] Running upgrade a1b2c3d4e5f6 -> de4033877273, create entity_associations table\n",
      "2025-10-29 06:58:09 INFO  [alembic.runtime.migration] Running upgrade de4033877273 -> 1a0cddfcaa16, Add webhooks and webhook_events tables\n",
      "2025-10-29 06:58:10 INFO  [alembic.runtime.migration] Running upgrade 1a0cddfcaa16 -> 534353b11cbc, add scorer tables\n",
      "2025-10-29 06:58:10 INFO  [alembic.runtime.migration] Running upgrade 534353b11cbc -> 71994744cf8e, add evaluation datasets\n",
      "2025-10-29 06:58:10 INFO  [alembic.runtime.migration] Running upgrade 71994744cf8e -> 3da73c924c2f, add outputs to dataset record\n",
      "2025-10-29 06:58:10 INFO  [alembic.runtime.migration] Running upgrade 3da73c924c2f -> bf29a5ff90ea, add jobs table\n",
      "2025-10-29 06:58:10 INFO  [alembic.runtime.migration] Context impl SQLiteImpl.\n",
      "2025-10-29 06:58:10 INFO  [alembic.runtime.migration] Will assume non-transactional DDL.\n",
      "2025/10/29 06:58:10 INFO mlflow.tracking.fluent: Experiment with name 'local-filesystem-experiment' does not exist. Creating a new experiment.\n",
      "2025/10/29 06:58:10 INFO mlflow.store.db.utils: Creating initial MLflow database tables...\n",
      "2025/10/29 06:58:10 INFO mlflow.store.db.utils: Updating database tables\n",
      "2025-10-29 06:58:10 INFO  [alembic.runtime.migration] Context impl SQLiteImpl.\n",
      "2025-10-29 06:58:10 INFO  [alembic.runtime.migration] Will assume non-transactional DDL.\n"
     ]
    },
    {
     "name": "stdout",
     "output_type": "stream",
     "text": [
      "Model Registry is accessible.\n"
     ]
    }
   ],
   "source": [
    "import mlflow\n",
    "from mlflow.exceptions import MlflowException\n",
    "\n",
    "# ----------------------------------------------------------------------\n",
    "# 💡 CRITICAL FIX: Setting tracking URI to a local path or simply unsetting it.\n",
    "# This ensures a local filesystem backend, as stated in the scenario.\n",
    "# ----------------------------------------------------------------------\n",
    "mlflow.set_tracking_uri(\"sqlite:///mlruns.db\") # Use a local SQLite for local experiments\n",
    "print(f\"Tracking URI: '{mlflow.get_tracking_uri()}'\")\n",
    "print(\"This scenario uses a local SQLite database for the backend.\")\n",
    "\n",
    "mlflow.set_experiment(\"local-filesystem-experiment\")\n",
    "\n",
    "with mlflow.start_run():\n",
    "    mlflow.set_tag(\"scenario\", \"1\")\n",
    "    mlflow.log_param(\"model\", \"DecisionTree\")\n",
    "    mlflow.log_metric(\"accuracy\", 0.85)\n",
    "\n",
    "# Test Model Registry access (should fail)\n",
    "try:\n",
    "    client = mlflow.tracking.MlflowClient()\n",
    "    client.search_registered_models()\n",
    "    print(\"Model Registry is accessible.\")\n",
    "except MlflowException as e:\n",
    "    print(f\"\\nExpected Failure: It's not possible to fully access the Model Registry in this setup. Error: {e}\")"
   ]
  },
  {
   "cell_type": "code",
   "execution_count": 16,
   "metadata": {},
   "outputs": [
    {
     "name": "stderr",
     "output_type": "stream",
     "text": [
      "2025/10/29 06:58:21 INFO mlflow.tracking.fluent: Experiment with name 'local-server-sqlite-experiment' does not exist. Creating a new experiment.\n"
     ]
    },
    {
     "name": "stdout",
     "output_type": "stream",
     "text": [
      "Tracking URI: 'http://127.0.0.1:5001'\n",
      "This scenario uses a local tracking server with SQLite backend.\n"
     ]
    },
    {
     "name": "stderr",
     "output_type": "stream",
     "text": [
      "/home/ubuntu/anaconda3/envs/.venv/lib/python3.13/site-packages/tqdm/auto.py:21: TqdmWarning: IProgress not found. Please update jupyter and ipywidgets. See https://ipywidgets.readthedocs.io/en/stable/user_install.html\n",
      "  from .autonotebook import tqdm as notebook_tqdm\n",
      "Downloading artifacts:   0%|                                                                                                                                                                                                 | 0/1 [04:06<?, ?it/s]\n"
     ]
    },
    {
     "name": "stdout",
     "output_type": "stream",
     "text": [
      "🏃 View run nosy-elk-704 at: http://127.0.0.1:5001/#/experiments/754476174928006296/runs/aa6a0dce4bd240d1abde6b214344443f\n",
      "🧪 View experiment at: http://127.0.0.1:5001/#/experiments/754476174928006296\n"
     ]
    },
    {
     "ename": "MlflowException",
     "evalue": "Failed to download artifacts from path 'model', please ensure that the path is correct.",
     "output_type": "error",
     "traceback": [
      "\u001b[31m---------------------------------------------------------------------------\u001b[39m",
      "\u001b[31mMlflowException\u001b[39m                           Traceback (most recent call last)",
      "\u001b[36mCell\u001b[39m\u001b[36m \u001b[39m\u001b[32mIn[16]\u001b[39m\u001b[32m, line 20\u001b[39m\n\u001b[32m     16\u001b[39m mlflow.log_metric(\u001b[33m\"\u001b[39m\u001b[33mloss\u001b[39m\u001b[33m\"\u001b[39m, \u001b[32m0.05\u001b[39m)\n\u001b[32m     18\u001b[39m \u001b[38;5;66;03m# Log a dummy model to test Model Registry access\u001b[39;00m\n\u001b[32m     19\u001b[39m mlflow.sklearn.log_model(\n\u001b[32m---> \u001b[39m\u001b[32m20\u001b[39m     sk_model=\u001b[43mmlflow\u001b[49m\u001b[43m.\u001b[49m\u001b[43msklearn\u001b[49m\u001b[43m.\u001b[49m\u001b[43mload_model\u001b[49m\u001b[43m(\u001b[49m\u001b[33;43mf\u001b[39;49m\u001b[33;43m\"\u001b[39;49m\u001b[33;43mruns:/\u001b[39;49m\u001b[38;5;132;43;01m{\u001b[39;49;00m\u001b[43mrun\u001b[49m\u001b[43m.\u001b[49m\u001b[43minfo\u001b[49m\u001b[43m.\u001b[49m\u001b[43mrun_id\u001b[49m\u001b[38;5;132;43;01m}\u001b[39;49;00m\u001b[33;43m/model\u001b[39;49m\u001b[33;43m\"\u001b[39;49m\u001b[43m)\u001b[49m,\n\u001b[32m     21\u001b[39m     artifact_path=\u001b[33m\"\u001b[39m\u001b[33mmodels\u001b[39m\u001b[33m\"\u001b[39m,\n\u001b[32m     22\u001b[39m     registered_model_name=\u001b[33m'\u001b[39m\u001b[33mlocal-sqlite-model-test\u001b[39m\u001b[33m'\u001b[39m\n\u001b[32m     23\u001b[39m )\n\u001b[32m     24\u001b[39m \u001b[38;5;28mprint\u001b[39m(\u001b[33m\"\u001b[39m\u001b[38;5;130;01m\\n\u001b[39;00m\u001b[33mModel successfully logged and registered (if it didn\u001b[39m\u001b[33m'\u001b[39m\u001b[33mt exist). Model Registry is working.\u001b[39m\u001b[33m\"\u001b[39m)\n",
      "\u001b[36mFile \u001b[39m\u001b[32m~/anaconda3/envs/.venv/lib/python3.13/site-packages/mlflow/sklearn/__init__.py:652\u001b[39m, in \u001b[36mload_model\u001b[39m\u001b[34m(model_uri, dst_path)\u001b[39m\n\u001b[32m    617\u001b[39m \u001b[38;5;28;01mdef\u001b[39;00m\u001b[38;5;250m \u001b[39m\u001b[34mload_model\u001b[39m(model_uri, dst_path=\u001b[38;5;28;01mNone\u001b[39;00m):\n\u001b[32m    618\u001b[39m \u001b[38;5;250m    \u001b[39m\u001b[33;03m\"\"\"\u001b[39;00m\n\u001b[32m    619\u001b[39m \u001b[33;03m    Load a scikit-learn model from a local file or a run.\u001b[39;00m\n\u001b[32m    620\u001b[39m \n\u001b[32m   (...)\u001b[39m\u001b[32m    650\u001b[39m \u001b[33;03m        predictions = sk_model.predict(pandas_df)\u001b[39;00m\n\u001b[32m    651\u001b[39m \u001b[33;03m    \"\"\"\u001b[39;00m\n\u001b[32m--> \u001b[39m\u001b[32m652\u001b[39m     local_model_path = \u001b[43m_download_artifact_from_uri\u001b[49m\u001b[43m(\u001b[49m\u001b[43martifact_uri\u001b[49m\u001b[43m=\u001b[49m\u001b[43mmodel_uri\u001b[49m\u001b[43m,\u001b[49m\u001b[43m \u001b[49m\u001b[43moutput_path\u001b[49m\u001b[43m=\u001b[49m\u001b[43mdst_path\u001b[49m\u001b[43m)\u001b[49m\n\u001b[32m    653\u001b[39m     flavor_conf = _get_flavor_configuration(model_path=local_model_path, flavor_name=FLAVOR_NAME)\n\u001b[32m    654\u001b[39m     _add_code_from_conf_to_system_path(local_model_path, flavor_conf)\n",
      "\u001b[36mFile \u001b[39m\u001b[32m~/anaconda3/envs/.venv/lib/python3.13/site-packages/mlflow/tracking/artifact_utils.py:128\u001b[39m, in \u001b[36m_download_artifact_from_uri\u001b[39m\u001b[34m(artifact_uri, output_path, lineage_header_info, tracking_uri, registry_uri)\u001b[39m\n\u001b[32m    122\u001b[39m     \u001b[38;5;28;01mif\u001b[39;00m \u001b[38;5;28misinstance\u001b[39m(repo, ModelsArtifactRepository):\n\u001b[32m    123\u001b[39m         \u001b[38;5;28;01mreturn\u001b[39;00m repo.download_artifacts(\n\u001b[32m    124\u001b[39m             artifact_path=artifact_path,\n\u001b[32m    125\u001b[39m             dst_path=output_path,\n\u001b[32m    126\u001b[39m             lineage_header_info=lineage_header_info,\n\u001b[32m    127\u001b[39m         )\n\u001b[32m--> \u001b[39m\u001b[32m128\u001b[39m     \u001b[38;5;28;01mreturn\u001b[39;00m \u001b[43mrepo\u001b[49m\u001b[43m.\u001b[49m\u001b[43mdownload_artifacts\u001b[49m\u001b[43m(\u001b[49m\u001b[43martifact_path\u001b[49m\u001b[43m=\u001b[49m\u001b[43martifact_path\u001b[49m\u001b[43m,\u001b[49m\u001b[43m \u001b[49m\u001b[43mdst_path\u001b[49m\u001b[43m=\u001b[49m\u001b[43moutput_path\u001b[49m\u001b[43m)\u001b[49m\n\u001b[32m    129\u001b[39m \u001b[38;5;28;01mexcept\u001b[39;00m \u001b[38;5;167;01mException\u001b[39;00m \u001b[38;5;28;01mas\u001b[39;00m e:\n\u001b[32m    130\u001b[39m     \u001b[38;5;28;01mif\u001b[39;00m artifact_uri.startswith(\u001b[33m\"\u001b[39m\u001b[33mm-\u001b[39m\u001b[33m\"\u001b[39m):\n\u001b[32m    131\u001b[39m         \u001b[38;5;66;03m# When a Model ID like string is passed, suggest using 'models:/{artifact_uri}' instead.\u001b[39;00m\n",
      "\u001b[36mFile \u001b[39m\u001b[32m~/anaconda3/envs/.venv/lib/python3.13/site-packages/mlflow/store/artifact/runs_artifact_repo.py:230\u001b[39m, in \u001b[36mRunsArtifactRepository.download_artifacts\u001b[39m\u001b[34m(self, artifact_path, dst_path)\u001b[39m\n\u001b[32m    228\u001b[39m path = run_out_path \u001b[38;5;129;01mor\u001b[39;00m model_out_path\n\u001b[32m    229\u001b[39m \u001b[38;5;28;01mif\u001b[39;00m path \u001b[38;5;129;01mis\u001b[39;00m \u001b[38;5;28;01mNone\u001b[39;00m:\n\u001b[32m--> \u001b[39m\u001b[32m230\u001b[39m     \u001b[38;5;28;01mraise\u001b[39;00m MlflowException(\n\u001b[32m    231\u001b[39m         \u001b[33mf\u001b[39m\u001b[33m\"\u001b[39m\u001b[33mFailed to download artifacts from path \u001b[39m\u001b[38;5;132;01m{\u001b[39;00martifact_path\u001b[38;5;132;01m!r}\u001b[39;00m\u001b[33m, \u001b[39m\u001b[33m\"\u001b[39m\n\u001b[32m    232\u001b[39m         \u001b[33m\"\u001b[39m\u001b[33mplease ensure that the path is correct.\u001b[39m\u001b[33m\"\u001b[39m,\n\u001b[32m    233\u001b[39m         error_code=RESOURCE_DOES_NOT_EXIST,\n\u001b[32m    234\u001b[39m     )\n\u001b[32m    235\u001b[39m \u001b[38;5;28;01mreturn\u001b[39;00m path\n",
      "\u001b[31mMlflowException\u001b[39m: Failed to download artifacts from path 'model', please ensure that the path is correct."
     ]
    }
   ],
   "source": [
    "import mlflow\n",
    "\n",
    "# ----------------------------------------------------------------------\n",
    "# 💡 CRITICAL: URI set to the local server, accessible via localhost:5001.\n",
    "# Assumes server was launched with: mlflow server --backend-store-uri sqlite:///backend.db --port 5001\n",
    "# ----------------------------------------------------------------------\n",
    "mlflow.set_tracking_uri(\"http://127.0.0.1:5001\")\n",
    "print(f\"Tracking URI: '{mlflow.get_tracking_uri()}'\")\n",
    "print(\"This scenario uses a local tracking server with SQLite backend.\")\n",
    "\n",
    "mlflow.set_experiment(\"local-server-sqlite-experiment\")\n",
    "\n",
    "with mlflow.start_run() as run:\n",
    "    mlflow.set_tag(\"scenario\", \"2\")\n",
    "    mlflow.log_param(\"model\", \"Ridge\")\n",
    "    mlflow.log_metric(\"loss\", 0.05)\n",
    "    \n",
    "    # Log a dummy model to test Model Registry access\n",
    "    mlflow.sklearn.log_model(\n",
    "        sk_model=mlflow.sklearn.load_model(f\"runs:/{run.info.run_id}/model\"),\n",
    "        artifact_path=\"models\",\n",
    "        registered_model_name='local-sqlite-model-test'\n",
    "    )\n",
    "    print(\"\\nModel successfully logged and registered (if it didn't exist). Model Registry is working.\")"
   ]
  },
  {
   "cell_type": "code",
   "execution_count": null,
   "metadata": {},
   "outputs": [],
   "source": [
    "import mlflow\n",
    "\n",
    "# ----------------------------------------------------------------------\n",
    "# 💡 CRITICAL: URI set to the local server, accessible via localhost:5001.\n",
    "# Assumes server was launched with: mlflow server --backend-store-uri sqlite:///backend.db --port 5001\n",
    "# ----------------------------------------------------------------------\n",
    "mlflow.set_tracking_uri(\"http://127.0.0.1:5001\")\n",
    "print(f\"Tracking URI: '{mlflow.get_tracking_uri()}'\")\n",
    "print(\"This scenario uses a local tracking server with SQLite backend.\")\n",
    "\n",
    "mlflow.set_experiment(\"local-server-sqlite-experiment\")\n",
    "\n",
    "with mlflow.start_run() as run:\n",
    "    mlflow.set_tag(\"scenario\", \"2\")\n",
    "    mlflow.log_param(\"model\", \"Ridge\")\n",
    "    mlflow.log_metric(\"loss\", 0.05)\n",
    "    \n",
    "    # Log a dummy model to test Model Registry access\n",
    "    mlflow.sklearn.log_model(\n",
    "        sk_model=mlflow.sklearn.load_model(f\"runs:/{run.info.run_id}/model\"),\n",
    "        artifact_path=\"models\",\n",
    "        registered_model_name='local-sqlite-model-test'\n",
    "    )\n",
    "    print(\"\\nModel successfully logged and registered (if it didn't exist). Model Registry is working.\")"
   ]
  },
  {
   "cell_type": "markdown",
   "metadata": {},
   "source": [
    "### Creating an experiment and logging a new run"
   ]
  },
  {
   "cell_type": "code",
   "execution_count": null,
   "metadata": {},
   "outputs": [],
   "source": []
  },
  {
   "cell_type": "markdown",
   "metadata": {},
   "source": [
    "### Interacting with the model registry"
   ]
  }
 ],
 "metadata": {
  "interpreter": {
   "hash": "0848c9d6c7d415ad6c477ff7ff8e98694d1a4aa96d0deee89244642e6b630036"
  },
  "kernelspec": {
   "display_name": "Python 3 (ipykernel)",
   "language": "python",
   "name": "python3"
  },
  "language_info": {
   "codemirror_mode": {
    "name": "ipython",
    "version": 3
   },
   "file_extension": ".py",
   "mimetype": "text/x-python",
   "name": "python",
   "nbconvert_exporter": "python",
   "pygments_lexer": "ipython3",
   "version": "3.13.9"
  }
 },
 "nbformat": 4,
 "nbformat_minor": 4
}
